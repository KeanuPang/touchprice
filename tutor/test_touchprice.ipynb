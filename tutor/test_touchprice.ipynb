{
 "cells": [
  {
   "cell_type": "code",
   "execution_count": 2,
   "metadata": {},
   "outputs": [],
   "source": [
    "import shioaji as sj\n",
    "import touchprice as tp"
   ]
  },
  {
   "cell_type": "code",
   "execution_count": null,
   "metadata": {},
   "outputs": [],
   "source": [
    "api = sj.Shioaji()\n",
    "api.login(USER_ID, PASSWORD)\n",
    "api.activate_ca(\"/mnt/c/ekey/551/USER_ID/S/Sinopac.pfx\", USER_ID, USER_ID)"
   ]
  },
  {
   "cell_type": "code",
   "execution_count": 9,
   "metadata": {},
   "outputs": [],
   "source": [
    "to = tp.TouchOrderExecutor(api)"
   ]
  },
  {
   "cell_type": "code",
   "execution_count": 5,
   "metadata": {},
   "outputs": [
    {
     "data": {
      "text/plain": [
       "TouchCmd(code='2890', close=Price(price=11.55, trend=<Trend.Equal: 'Equal'>, price_type=<PriceType.LimitPrice: 'LimitPrice'>), buy_price=None, sell_price=None, high=None, low=None, volume=None, total_volume=None)"
      ]
     },
     "execution_count": 5,
     "metadata": {},
     "output_type": "execute_result"
    }
   ],
   "source": [
    "t_cmd = tp.TouchCmd(code=\"2890\", close=tp.Price(price=11.55,trend=\"Equal\"))\n",
    "t_cmd"
   ]
  },
  {
   "cell_type": "code",
   "execution_count": 6,
   "metadata": {},
   "outputs": [
    {
     "data": {
      "text/plain": [
       "OrderCmd(code='2890', order=Order(action=<Action.Buy: 'Buy'>, price=10.5, quantity=1, price_type=<StockPriceType.LMT: 'LMT'>, order_type=<FuturesOrderType.ROD: 'ROD'>))"
      ]
     },
     "execution_count": 6,
     "metadata": {},
     "output_type": "execute_result"
    }
   ],
   "source": [
    "o_cmd = tp.OrderCmd(code=\"2890\", order=sj.Order(price=10.5,quantity=1,action=\"Buy\",order_type=\"ROD\",price_type=\"LMT\"))\n",
    "o_cmd"
   ]
  },
  {
   "cell_type": "code",
   "execution_count": 7,
   "metadata": {},
   "outputs": [
    {
     "data": {
      "text/plain": [
       "TouchOrderCond(touch_cmd=TouchCmd(code='2890', close=Price(price=11.55, trend=<Trend.Equal: 'Equal'>, price_type=<PriceType.LimitPrice: 'LimitPrice'>), buy_price=None, sell_price=None, high=None, low=None, volume=None, total_volume=None), order_cmd=OrderCmd(code='2890', order=Order(action=<Action.Buy: 'Buy'>, price=10.5, quantity=1, price_type=<StockPriceType.LMT: 'LMT'>, order_type=<FuturesOrderType.ROD: 'ROD'>)))"
      ]
     },
     "execution_count": 7,
     "metadata": {},
     "output_type": "execute_result"
    }
   ],
   "source": [
    "tcond = tp.TouchOrderCond(t_cmd, o_cmd)\n",
    "tcond"
   ]
  },
  {
   "cell_type": "code",
   "execution_count": 10,
   "metadata": {},
   "outputs": [
    {
     "name": "stdout",
     "output_type": "stream",
     "text": [
      "Response Code: 200 | Event Code: 16 | Info: MKT/*/TSE/2890 | Event: Subscribe or Unsubscribe ok\n",
      "Response Code: 200 | Event Code: 16 | Info: QUT/*/TSE/2890 | Event: Subscribe or Unsubscribe ok\n"
     ]
    }
   ],
   "source": [
    "to.add_condition(tcond)"
   ]
  },
  {
   "cell_type": "code",
   "execution_count": 11,
   "metadata": {},
   "outputs": [
    {
     "data": {
      "text/plain": [
       "{'2890': [StoreCond(close=PriceGap(price=11.55, trend=<Trend.Equal: 'Equal'>), buy_price=None, sell_price=None, high=None, low=None, volume=None, total_volume=None, order_contract=Stock(exchange=<Exchange.TSE: 'TSE'>, code='2890', symbol='TSE2890', name='永豐金', category='17', limit_up=12.8, limit_down=10.5, reference=11.65, update_date='2020/05/18', day_trade=<DayTrade.Yes: 'Yes'>), order=Order(action=<Action.Buy: 'Buy'>, price=10.5, quantity=1, price_type=<StockPriceType.LMT: 'LMT'>, order_type=<FuturesOrderType.ROD: 'ROD'>), result=None, excuted_cb=<built-in function print>, excuted=False)]}"
      ]
     },
     "execution_count": 11,
     "metadata": {},
     "output_type": "execute_result"
    }
   ],
   "source": [
    "to.conditions"
   ]
  },
  {
   "cell_type": "code",
   "execution_count": 12,
   "metadata": {},
   "outputs": [
    {
     "data": {
      "text/plain": [
       "[]"
      ]
     },
     "execution_count": 12,
     "metadata": {},
     "output_type": "execute_result"
    }
   ],
   "source": [
    "to.delete_condition(tcond)"
   ]
  },
  {
   "cell_type": "code",
   "execution_count": 13,
   "metadata": {},
   "outputs": [
    {
     "data": {
      "text/plain": [
       "{'2890': []}"
      ]
     },
     "execution_count": 13,
     "metadata": {},
     "output_type": "execute_result"
    }
   ],
   "source": [
    "to.conditions"
   ]
  },
  {
   "cell_type": "code",
   "execution_count": null,
   "metadata": {},
   "outputs": [],
   "source": []
  }
 ],
 "metadata": {
  "kernelspec": {
   "display_name": "Python 3",
   "language": "python",
   "name": "python3"
  },
  "language_info": {
   "codemirror_mode": {
    "name": "ipython",
    "version": 3
   },
   "file_extension": ".py",
   "mimetype": "text/x-python",
   "name": "python",
   "nbconvert_exporter": "python",
   "pygments_lexer": "ipython3",
   "version": "3.7.0"
  }
 },
 "nbformat": 4,
 "nbformat_minor": 4
}
