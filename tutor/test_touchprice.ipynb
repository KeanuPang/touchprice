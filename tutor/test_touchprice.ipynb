{
 "cells": [
  {
   "cell_type": "code",
   "execution_count": 20,
   "metadata": {},
   "outputs": [],
   "source": [
    "import shioaji as sj\n",
    "import touchprice as tp"
   ]
  },
  {
   "cell_type": "code",
   "execution_count": 3,
   "metadata": {},
   "outputs": [
    {
     "name": "stdout",
     "output_type": "stream",
     "text": [
      "Response Code: 0 | Event Code: 0 | Info: host '203.66.91.161:80', IP 203.66.91.161:80 (host 1 of 1) (host connection attempt 1 of 1) (total connection attempt 1 of 1) | Event: Session up\n",
      "Ca Initial Done.\n"
     ]
    },
    {
     "data": {
      "text/plain": [
       "0"
      ]
     },
     "execution_count": 3,
     "metadata": {},
     "output_type": "execute_result"
    }
   ],
   "source": [
    "api = sj.Shioaji()\n",
    "api.login(USER_ID, PASSWORD)\n",
    "api.activate_ca(\"/mnt/c/ekey/551/USER_ID/S/Sinopac.pfx\", USER_ID, USER_ID)"
   ]
  },
  {
   "cell_type": "code",
   "execution_count": 21,
   "metadata": {},
   "outputs": [],
   "source": [
    "to = tp.TouchOrder(api)"
   ]
  },
  {
   "cell_type": "code",
   "execution_count": 22,
   "metadata": {},
   "outputs": [
    {
     "data": {
      "text/plain": [
       "TouchCmd(code='2890', close=Price(price=11.7, trend=<Trend.Equal: 'Equal'>, price_type=<PriceType.LimitUp: 'LimitUp'>), buy_price=None, sell_price=None, high=None, low=None, volume=None, total_volume=None)"
      ]
     },
     "execution_count": 22,
     "metadata": {},
     "output_type": "execute_result"
    }
   ],
   "source": [
    "t_cmd = tp.TouchCmd(code=\"2890\",close=tp.Price(price=11.7,trend=\"Equal\",price_type=\"LimitUp\"))\n",
    "t_cmd"
   ]
  },
  {
   "cell_type": "code",
   "execution_count": 23,
   "metadata": {},
   "outputs": [
    {
     "data": {
      "text/plain": [
       "OrderCmd(code='2890', order=Order(action=<Action.Buy: 'Buy'>, price=10.55, quantity=1, price_type=<StockPriceType.LMT: 'LMT'>, order_type=<FuturesOrderType.ROD: 'ROD'>))"
      ]
     },
     "execution_count": 23,
     "metadata": {},
     "output_type": "execute_result"
    }
   ],
   "source": [
    "o_cmd = tp.OrderCmd(code=\"2890\",order=sj.Order(price=10.55,quantity=1,action=\"Buy\",order_type=\"ROD\",price_type=\"LMT\"))\n",
    "o_cmd"
   ]
  },
  {
   "cell_type": "code",
   "execution_count": 24,
   "metadata": {},
   "outputs": [
    {
     "data": {
      "text/plain": [
       "TouchOrderCond(touch_cmd=TouchCmd(code='2890', close=Price(price=11.7, trend=<Trend.Equal: 'Equal'>, price_type=<PriceType.LimitUp: 'LimitUp'>), buy_price=None, sell_price=None, high=None, low=None, volume=None, total_volume=None), order_cmd=OrderCmd(code='2890', order=Order(action=<Action.Buy: 'Buy'>, price=10.55, quantity=1, price_type=<StockPriceType.LMT: 'LMT'>, order_type=<FuturesOrderType.ROD: 'ROD'>)))"
      ]
     },
     "execution_count": 24,
     "metadata": {},
     "output_type": "execute_result"
    }
   ],
   "source": [
    "tcond = tp.TouchOrderCond(t_cmd,o_cmd)\n",
    "tcond"
   ]
  },
  {
   "cell_type": "code",
   "execution_count": 30,
   "metadata": {},
   "outputs": [
    {
     "name": "stdout",
     "output_type": "stream",
     "text": [
      "Response Code: 200 | Event Code: 16 | Info: Subscription Already Exists - Topic 'MKT/*/TSE/2890' Subscribe: Response code: '400'; Flags: 'c';  | Event: Subscribe or Unsubscribe ok\n",
      "Response Code: 200 | Event Code: 16 | Info: Subscription Already Exists - Topic 'QUT/*/TSE/2890' Subscribe: Response code: '400'; Flags: 'c';  | Event: Subscribe or Unsubscribe ok\n"
     ]
    }
   ],
   "source": [
    "to.set_condition(tcond)"
   ]
  },
  {
   "cell_type": "code",
   "execution_count": 31,
   "metadata": {},
   "outputs": [
    {
     "data": {
      "text/plain": [
       "{'2890': [StoreCond(close=PriceGap(price=12.85, trend=<Trend.Equal: 'Equal'>), buy_price=None, sell_price=None, high=None, low=None, volume=None, total_volume=None, order_contract=Stock(exchange=<Exchange.TSE: 'TSE'>, code='2890', symbol='TSE2890', name='永豐金', category='17', limit_up=12.85, limit_down=10.55, reference=11.7, update_date='2020/05/06', day_trade=<DayTrade.Yes: 'Yes'>), order=Order(action=<Action.Buy: 'Buy'>, price=10.55, quantity=1, price_type=<StockPriceType.LMT: 'LMT'>, order_type=<FuturesOrderType.ROD: 'ROD'>), excuted=False)]}"
      ]
     },
     "execution_count": 31,
     "metadata": {},
     "output_type": "execute_result"
    }
   ],
   "source": [
    "to.conditions"
   ]
  },
  {
   "cell_type": "code",
   "execution_count": 32,
   "metadata": {},
   "outputs": [
    {
     "data": {
      "text/plain": [
       "[]"
      ]
     },
     "execution_count": 32,
     "metadata": {},
     "output_type": "execute_result"
    }
   ],
   "source": [
    "to.delete_condition(tcond)"
   ]
  },
  {
   "cell_type": "code",
   "execution_count": 33,
   "metadata": {},
   "outputs": [
    {
     "data": {
      "text/plain": [
       "{'2890': []}"
      ]
     },
     "execution_count": 33,
     "metadata": {},
     "output_type": "execute_result"
    }
   ],
   "source": [
    "to.conditions"
   ]
  },
  {
   "cell_type": "code",
   "execution_count": null,
   "metadata": {},
   "outputs": [],
   "source": []
  }
 ],
 "metadata": {
  "kernelspec": {
   "display_name": "Python 3",
   "language": "python",
   "name": "python3"
  },
  "language_info": {
   "codemirror_mode": {
    "name": "ipython",
    "version": 3
   },
   "file_extension": ".py",
   "mimetype": "text/x-python",
   "name": "python",
   "nbconvert_exporter": "python",
   "pygments_lexer": "ipython3",
   "version": "3.7.0"
  }
 },
 "nbformat": 4,
 "nbformat_minor": 4
}
